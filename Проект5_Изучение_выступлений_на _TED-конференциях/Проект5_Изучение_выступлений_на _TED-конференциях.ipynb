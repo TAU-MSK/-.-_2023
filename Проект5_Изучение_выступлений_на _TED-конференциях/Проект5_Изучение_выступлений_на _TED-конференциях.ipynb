{
 "cells": [
  {
   "cell_type": "markdown",
   "id": "973176c1",
   "metadata": {},
   "source": [
    "# Проект5: Изучение выступлений на TED-конференциях"
   ]
  },
  {
   "cell_type": "markdown",
   "id": "e999153e",
   "metadata": {},
   "source": [
    "Ссылка на публикацию:"
   ]
  },
  {
   "cell_type": "markdown",
   "id": "e699beb7",
   "metadata": {},
   "source": [
    "https://public.tableau.com/views/__v1_16999965360480/Story1?:language=en-US&publish=yes&:display_count=n&:origin=viz_share_link"
   ]
  }
 ],
 "metadata": {
  "ExecuteTimeLog": [
   {
    "duration": 89,
    "start_time": "2023-11-13T22:24:08.957Z"
   },
   {
    "duration": 92,
    "start_time": "2023-11-14T21:21:12.154Z"
   }
  ],
  "kernelspec": {
   "display_name": "Python 3 (ipykernel)",
   "language": "python",
   "name": "python3"
  },
  "language_info": {
   "codemirror_mode": {
    "name": "ipython",
    "version": 3
   },
   "file_extension": ".py",
   "mimetype": "text/x-python",
   "name": "python",
   "nbconvert_exporter": "python",
   "pygments_lexer": "ipython3",
   "version": "3.9.5"
  },
  "toc": {
   "base_numbering": 1,
   "nav_menu": {},
   "number_sections": true,
   "sideBar": true,
   "skip_h1_title": true,
   "title_cell": "Table of Contents",
   "title_sidebar": "Contents",
   "toc_cell": false,
   "toc_position": {},
   "toc_section_display": true,
   "toc_window_display": false
  }
 },
 "nbformat": 4,
 "nbformat_minor": 5
}
