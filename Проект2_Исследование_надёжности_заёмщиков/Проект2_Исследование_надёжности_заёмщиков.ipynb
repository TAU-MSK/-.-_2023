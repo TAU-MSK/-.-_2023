{
 "cells": [
  {
   "cell_type": "markdown",
   "id": "386f2ae7",
   "metadata": {
    "deletable": false,
    "editable": false,
    "id": "386f2ae7"
   },
   "source": [
    "# Исследование надежности заемщиков\n"
   ]
  },
  {
   "cell_type": "markdown",
   "id": "26613308",
   "metadata": {
    "deletable": false,
    "editable": false,
    "id": "26613308"
   },
   "source": [
    "## Откройте таблицу и изучите общую информацию о данных"
   ]
  },
  {
   "cell_type": "markdown",
   "id": "3c9f838e",
   "metadata": {
    "deletable": false,
    "editable": false,
    "id": "3c9f838e"
   },
   "source": [
    "**Задание 1. Импортируйте библиотеку pandas. Считайте данные из csv-файла в датафрейм и сохраните в переменную `data`. Путь к файлу:**\n",
    "\n",
    "`/datasets/data.csv`"
   ]
  },
  {
   "cell_type": "code",
   "execution_count": 1,
   "id": "77a68a90",
   "metadata": {
    "deletable": false,
    "id": "77a68a90"
   },
   "outputs": [],
   "source": [
    "import pandas as pd\n",
    "\n",
    "try:\n",
    "    data = pd.read_csv('/datasets/data.csv')\n",
    "except:\n",
    "    data = pd.read_csv('https://code.s3.yandex.net/datasets/data.csv')"
   ]
  },
  {
   "cell_type": "markdown",
   "id": "45365635",
   "metadata": {
    "deletable": false,
    "editable": false,
    "id": "45365635"
   },
   "source": [
    "**Задание 2. Выведите первые 20 строчек датафрейма `data` на экран.**"
   ]
  },
  {
   "cell_type": "code",
   "execution_count": 2,
   "id": "b0451a9a",
   "metadata": {
    "deletable": false,
    "id": "b0451a9a",
    "outputId": "1a8f3ef2-d323-4ec2-ddf7-89670b5944c4"
   },
   "outputs": [
    {
     "data": {
      "text/html": [
       "<div>\n",
       "<style scoped>\n",
       "    .dataframe tbody tr th:only-of-type {\n",
       "        vertical-align: middle;\n",
       "    }\n",
       "\n",
       "    .dataframe tbody tr th {\n",
       "        vertical-align: top;\n",
       "    }\n",
       "\n",
       "    .dataframe thead th {\n",
       "        text-align: right;\n",
       "    }\n",
       "</style>\n",
       "<table border=\"1\" class=\"dataframe\">\n",
       "  <thead>\n",
       "    <tr style=\"text-align: right;\">\n",
       "      <th></th>\n",
       "      <th>children</th>\n",
       "      <th>days_employed</th>\n",
       "      <th>dob_years</th>\n",
       "      <th>education</th>\n",
       "      <th>education_id</th>\n",
       "      <th>family_status</th>\n",
       "      <th>family_status_id</th>\n",
       "      <th>gender</th>\n",
       "      <th>income_type</th>\n",
       "      <th>debt</th>\n",
       "      <th>total_income</th>\n",
       "      <th>purpose</th>\n",
       "    </tr>\n",
       "  </thead>\n",
       "  <tbody>\n",
       "    <tr>\n",
       "      <th>0</th>\n",
       "      <td>1</td>\n",
       "      <td>-8437.673028</td>\n",
       "      <td>42</td>\n",
       "      <td>высшее</td>\n",
       "      <td>0</td>\n",
       "      <td>женат / замужем</td>\n",
       "      <td>0</td>\n",
       "      <td>F</td>\n",
       "      <td>сотрудник</td>\n",
       "      <td>0</td>\n",
       "      <td>253875.639453</td>\n",
       "      <td>покупка жилья</td>\n",
       "    </tr>\n",
       "    <tr>\n",
       "      <th>1</th>\n",
       "      <td>1</td>\n",
       "      <td>-4024.803754</td>\n",
       "      <td>36</td>\n",
       "      <td>среднее</td>\n",
       "      <td>1</td>\n",
       "      <td>женат / замужем</td>\n",
       "      <td>0</td>\n",
       "      <td>F</td>\n",
       "      <td>сотрудник</td>\n",
       "      <td>0</td>\n",
       "      <td>112080.014102</td>\n",
       "      <td>приобретение автомобиля</td>\n",
       "    </tr>\n",
       "    <tr>\n",
       "      <th>2</th>\n",
       "      <td>0</td>\n",
       "      <td>-5623.422610</td>\n",
       "      <td>33</td>\n",
       "      <td>Среднее</td>\n",
       "      <td>1</td>\n",
       "      <td>женат / замужем</td>\n",
       "      <td>0</td>\n",
       "      <td>M</td>\n",
       "      <td>сотрудник</td>\n",
       "      <td>0</td>\n",
       "      <td>145885.952297</td>\n",
       "      <td>покупка жилья</td>\n",
       "    </tr>\n",
       "    <tr>\n",
       "      <th>3</th>\n",
       "      <td>3</td>\n",
       "      <td>-4124.747207</td>\n",
       "      <td>32</td>\n",
       "      <td>среднее</td>\n",
       "      <td>1</td>\n",
       "      <td>женат / замужем</td>\n",
       "      <td>0</td>\n",
       "      <td>M</td>\n",
       "      <td>сотрудник</td>\n",
       "      <td>0</td>\n",
       "      <td>267628.550329</td>\n",
       "      <td>дополнительное образование</td>\n",
       "    </tr>\n",
       "    <tr>\n",
       "      <th>4</th>\n",
       "      <td>0</td>\n",
       "      <td>340266.072047</td>\n",
       "      <td>53</td>\n",
       "      <td>среднее</td>\n",
       "      <td>1</td>\n",
       "      <td>гражданский брак</td>\n",
       "      <td>1</td>\n",
       "      <td>F</td>\n",
       "      <td>пенсионер</td>\n",
       "      <td>0</td>\n",
       "      <td>158616.077870</td>\n",
       "      <td>сыграть свадьбу</td>\n",
       "    </tr>\n",
       "    <tr>\n",
       "      <th>5</th>\n",
       "      <td>0</td>\n",
       "      <td>-926.185831</td>\n",
       "      <td>27</td>\n",
       "      <td>высшее</td>\n",
       "      <td>0</td>\n",
       "      <td>гражданский брак</td>\n",
       "      <td>1</td>\n",
       "      <td>M</td>\n",
       "      <td>компаньон</td>\n",
       "      <td>0</td>\n",
       "      <td>255763.565419</td>\n",
       "      <td>покупка жилья</td>\n",
       "    </tr>\n",
       "    <tr>\n",
       "      <th>6</th>\n",
       "      <td>0</td>\n",
       "      <td>-2879.202052</td>\n",
       "      <td>43</td>\n",
       "      <td>высшее</td>\n",
       "      <td>0</td>\n",
       "      <td>женат / замужем</td>\n",
       "      <td>0</td>\n",
       "      <td>F</td>\n",
       "      <td>компаньон</td>\n",
       "      <td>0</td>\n",
       "      <td>240525.971920</td>\n",
       "      <td>операции с жильем</td>\n",
       "    </tr>\n",
       "    <tr>\n",
       "      <th>7</th>\n",
       "      <td>0</td>\n",
       "      <td>-152.779569</td>\n",
       "      <td>50</td>\n",
       "      <td>СРЕДНЕЕ</td>\n",
       "      <td>1</td>\n",
       "      <td>женат / замужем</td>\n",
       "      <td>0</td>\n",
       "      <td>M</td>\n",
       "      <td>сотрудник</td>\n",
       "      <td>0</td>\n",
       "      <td>135823.934197</td>\n",
       "      <td>образование</td>\n",
       "    </tr>\n",
       "    <tr>\n",
       "      <th>8</th>\n",
       "      <td>2</td>\n",
       "      <td>-6929.865299</td>\n",
       "      <td>35</td>\n",
       "      <td>ВЫСШЕЕ</td>\n",
       "      <td>0</td>\n",
       "      <td>гражданский брак</td>\n",
       "      <td>1</td>\n",
       "      <td>F</td>\n",
       "      <td>сотрудник</td>\n",
       "      <td>0</td>\n",
       "      <td>95856.832424</td>\n",
       "      <td>на проведение свадьбы</td>\n",
       "    </tr>\n",
       "    <tr>\n",
       "      <th>9</th>\n",
       "      <td>0</td>\n",
       "      <td>-2188.756445</td>\n",
       "      <td>41</td>\n",
       "      <td>среднее</td>\n",
       "      <td>1</td>\n",
       "      <td>женат / замужем</td>\n",
       "      <td>0</td>\n",
       "      <td>M</td>\n",
       "      <td>сотрудник</td>\n",
       "      <td>0</td>\n",
       "      <td>144425.938277</td>\n",
       "      <td>покупка жилья для семьи</td>\n",
       "    </tr>\n",
       "    <tr>\n",
       "      <th>10</th>\n",
       "      <td>2</td>\n",
       "      <td>-4171.483647</td>\n",
       "      <td>36</td>\n",
       "      <td>высшее</td>\n",
       "      <td>0</td>\n",
       "      <td>женат / замужем</td>\n",
       "      <td>0</td>\n",
       "      <td>M</td>\n",
       "      <td>компаньон</td>\n",
       "      <td>0</td>\n",
       "      <td>113943.491460</td>\n",
       "      <td>покупка недвижимости</td>\n",
       "    </tr>\n",
       "    <tr>\n",
       "      <th>11</th>\n",
       "      <td>0</td>\n",
       "      <td>-792.701887</td>\n",
       "      <td>40</td>\n",
       "      <td>среднее</td>\n",
       "      <td>1</td>\n",
       "      <td>женат / замужем</td>\n",
       "      <td>0</td>\n",
       "      <td>F</td>\n",
       "      <td>сотрудник</td>\n",
       "      <td>0</td>\n",
       "      <td>77069.234271</td>\n",
       "      <td>покупка коммерческой недвижимости</td>\n",
       "    </tr>\n",
       "    <tr>\n",
       "      <th>12</th>\n",
       "      <td>0</td>\n",
       "      <td>NaN</td>\n",
       "      <td>65</td>\n",
       "      <td>среднее</td>\n",
       "      <td>1</td>\n",
       "      <td>гражданский брак</td>\n",
       "      <td>1</td>\n",
       "      <td>M</td>\n",
       "      <td>пенсионер</td>\n",
       "      <td>0</td>\n",
       "      <td>NaN</td>\n",
       "      <td>сыграть свадьбу</td>\n",
       "    </tr>\n",
       "    <tr>\n",
       "      <th>13</th>\n",
       "      <td>0</td>\n",
       "      <td>-1846.641941</td>\n",
       "      <td>54</td>\n",
       "      <td>неоконченное высшее</td>\n",
       "      <td>2</td>\n",
       "      <td>женат / замужем</td>\n",
       "      <td>0</td>\n",
       "      <td>F</td>\n",
       "      <td>сотрудник</td>\n",
       "      <td>0</td>\n",
       "      <td>130458.228857</td>\n",
       "      <td>приобретение автомобиля</td>\n",
       "    </tr>\n",
       "    <tr>\n",
       "      <th>14</th>\n",
       "      <td>0</td>\n",
       "      <td>-1844.956182</td>\n",
       "      <td>56</td>\n",
       "      <td>высшее</td>\n",
       "      <td>0</td>\n",
       "      <td>гражданский брак</td>\n",
       "      <td>1</td>\n",
       "      <td>F</td>\n",
       "      <td>компаньон</td>\n",
       "      <td>1</td>\n",
       "      <td>165127.911772</td>\n",
       "      <td>покупка жилой недвижимости</td>\n",
       "    </tr>\n",
       "    <tr>\n",
       "      <th>15</th>\n",
       "      <td>1</td>\n",
       "      <td>-972.364419</td>\n",
       "      <td>26</td>\n",
       "      <td>среднее</td>\n",
       "      <td>1</td>\n",
       "      <td>женат / замужем</td>\n",
       "      <td>0</td>\n",
       "      <td>F</td>\n",
       "      <td>сотрудник</td>\n",
       "      <td>0</td>\n",
       "      <td>116820.904450</td>\n",
       "      <td>строительство собственной недвижимости</td>\n",
       "    </tr>\n",
       "    <tr>\n",
       "      <th>16</th>\n",
       "      <td>0</td>\n",
       "      <td>-1719.934226</td>\n",
       "      <td>35</td>\n",
       "      <td>среднее</td>\n",
       "      <td>1</td>\n",
       "      <td>женат / замужем</td>\n",
       "      <td>0</td>\n",
       "      <td>F</td>\n",
       "      <td>сотрудник</td>\n",
       "      <td>0</td>\n",
       "      <td>289202.704229</td>\n",
       "      <td>недвижимость</td>\n",
       "    </tr>\n",
       "    <tr>\n",
       "      <th>17</th>\n",
       "      <td>0</td>\n",
       "      <td>-2369.999720</td>\n",
       "      <td>33</td>\n",
       "      <td>высшее</td>\n",
       "      <td>0</td>\n",
       "      <td>гражданский брак</td>\n",
       "      <td>1</td>\n",
       "      <td>M</td>\n",
       "      <td>сотрудник</td>\n",
       "      <td>0</td>\n",
       "      <td>90410.586745</td>\n",
       "      <td>строительство недвижимости</td>\n",
       "    </tr>\n",
       "    <tr>\n",
       "      <th>18</th>\n",
       "      <td>0</td>\n",
       "      <td>400281.136913</td>\n",
       "      <td>53</td>\n",
       "      <td>среднее</td>\n",
       "      <td>1</td>\n",
       "      <td>вдовец / вдова</td>\n",
       "      <td>2</td>\n",
       "      <td>F</td>\n",
       "      <td>пенсионер</td>\n",
       "      <td>0</td>\n",
       "      <td>56823.777243</td>\n",
       "      <td>на покупку подержанного автомобиля</td>\n",
       "    </tr>\n",
       "    <tr>\n",
       "      <th>19</th>\n",
       "      <td>0</td>\n",
       "      <td>-10038.818549</td>\n",
       "      <td>48</td>\n",
       "      <td>СРЕДНЕЕ</td>\n",
       "      <td>1</td>\n",
       "      <td>в разводе</td>\n",
       "      <td>3</td>\n",
       "      <td>F</td>\n",
       "      <td>сотрудник</td>\n",
       "      <td>0</td>\n",
       "      <td>242831.107982</td>\n",
       "      <td>на покупку своего автомобиля</td>\n",
       "    </tr>\n",
       "  </tbody>\n",
       "</table>\n",
       "</div>"
      ],
      "text/plain": [
       "    children  days_employed  dob_years            education  education_id  \\\n",
       "0          1   -8437.673028         42               высшее             0   \n",
       "1          1   -4024.803754         36              среднее             1   \n",
       "2          0   -5623.422610         33              Среднее             1   \n",
       "3          3   -4124.747207         32              среднее             1   \n",
       "4          0  340266.072047         53              среднее             1   \n",
       "5          0    -926.185831         27               высшее             0   \n",
       "6          0   -2879.202052         43               высшее             0   \n",
       "7          0    -152.779569         50              СРЕДНЕЕ             1   \n",
       "8          2   -6929.865299         35               ВЫСШЕЕ             0   \n",
       "9          0   -2188.756445         41              среднее             1   \n",
       "10         2   -4171.483647         36               высшее             0   \n",
       "11         0    -792.701887         40              среднее             1   \n",
       "12         0            NaN         65              среднее             1   \n",
       "13         0   -1846.641941         54  неоконченное высшее             2   \n",
       "14         0   -1844.956182         56               высшее             0   \n",
       "15         1    -972.364419         26              среднее             1   \n",
       "16         0   -1719.934226         35              среднее             1   \n",
       "17         0   -2369.999720         33               высшее             0   \n",
       "18         0  400281.136913         53              среднее             1   \n",
       "19         0  -10038.818549         48              СРЕДНЕЕ             1   \n",
       "\n",
       "       family_status  family_status_id gender income_type  debt  \\\n",
       "0    женат / замужем                 0      F   сотрудник     0   \n",
       "1    женат / замужем                 0      F   сотрудник     0   \n",
       "2    женат / замужем                 0      M   сотрудник     0   \n",
       "3    женат / замужем                 0      M   сотрудник     0   \n",
       "4   гражданский брак                 1      F   пенсионер     0   \n",
       "5   гражданский брак                 1      M   компаньон     0   \n",
       "6    женат / замужем                 0      F   компаньон     0   \n",
       "7    женат / замужем                 0      M   сотрудник     0   \n",
       "8   гражданский брак                 1      F   сотрудник     0   \n",
       "9    женат / замужем                 0      M   сотрудник     0   \n",
       "10   женат / замужем                 0      M   компаньон     0   \n",
       "11   женат / замужем                 0      F   сотрудник     0   \n",
       "12  гражданский брак                 1      M   пенсионер     0   \n",
       "13   женат / замужем                 0      F   сотрудник     0   \n",
       "14  гражданский брак                 1      F   компаньон     1   \n",
       "15   женат / замужем                 0      F   сотрудник     0   \n",
       "16   женат / замужем                 0      F   сотрудник     0   \n",
       "17  гражданский брак                 1      M   сотрудник     0   \n",
       "18    вдовец / вдова                 2      F   пенсионер     0   \n",
       "19         в разводе                 3      F   сотрудник     0   \n",
       "\n",
       "     total_income                                 purpose  \n",
       "0   253875.639453                           покупка жилья  \n",
       "1   112080.014102                 приобретение автомобиля  \n",
       "2   145885.952297                           покупка жилья  \n",
       "3   267628.550329              дополнительное образование  \n",
       "4   158616.077870                         сыграть свадьбу  \n",
       "5   255763.565419                           покупка жилья  \n",
       "6   240525.971920                       операции с жильем  \n",
       "7   135823.934197                             образование  \n",
       "8    95856.832424                   на проведение свадьбы  \n",
       "9   144425.938277                 покупка жилья для семьи  \n",
       "10  113943.491460                    покупка недвижимости  \n",
       "11   77069.234271       покупка коммерческой недвижимости  \n",
       "12            NaN                         сыграть свадьбу  \n",
       "13  130458.228857                 приобретение автомобиля  \n",
       "14  165127.911772              покупка жилой недвижимости  \n",
       "15  116820.904450  строительство собственной недвижимости  \n",
       "16  289202.704229                            недвижимость  \n",
       "17   90410.586745              строительство недвижимости  \n",
       "18   56823.777243      на покупку подержанного автомобиля  \n",
       "19  242831.107982            на покупку своего автомобиля  "
      ]
     },
     "execution_count": 2,
     "metadata": {},
     "output_type": "execute_result"
    }
   ],
   "source": [
    "data.head(20)"
   ]
  },
  {
   "cell_type": "markdown",
   "id": "0ed8f27f",
   "metadata": {
    "deletable": false,
    "editable": false,
    "id": "0ed8f27f"
   },
   "source": [
    "**Задание 3. Выведите основную информацию о датафрейме с помощью метода `info()`.**"
   ]
  },
  {
   "cell_type": "code",
   "execution_count": 3,
   "id": "ab3f863b",
   "metadata": {
    "deletable": false,
    "id": "ab3f863b",
    "outputId": "15376089-8dad-46c9-b520-c05248d43158"
   },
   "outputs": [
    {
     "name": "stdout",
     "output_type": "stream",
     "text": [
      "<class 'pandas.core.frame.DataFrame'>\n",
      "RangeIndex: 21525 entries, 0 to 21524\n",
      "Data columns (total 12 columns):\n",
      " #   Column            Non-Null Count  Dtype  \n",
      "---  ------            --------------  -----  \n",
      " 0   children          21525 non-null  int64  \n",
      " 1   days_employed     19351 non-null  float64\n",
      " 2   dob_years         21525 non-null  int64  \n",
      " 3   education         21525 non-null  object \n",
      " 4   education_id      21525 non-null  int64  \n",
      " 5   family_status     21525 non-null  object \n",
      " 6   family_status_id  21525 non-null  int64  \n",
      " 7   gender            21525 non-null  object \n",
      " 8   income_type       21525 non-null  object \n",
      " 9   debt              21525 non-null  int64  \n",
      " 10  total_income      19351 non-null  float64\n",
      " 11  purpose           21525 non-null  object \n",
      "dtypes: float64(2), int64(5), object(5)\n",
      "memory usage: 2.0+ MB\n"
     ]
    }
   ],
   "source": [
    "data.info()"
   ]
  },
  {
   "cell_type": "markdown",
   "id": "60e3e22d",
   "metadata": {
    "deletable": false,
    "editable": false,
    "id": "60e3e22d"
   },
   "source": [
    "## Предобработка данных"
   ]
  },
  {
   "cell_type": "markdown",
   "id": "03dc170c",
   "metadata": {
    "deletable": false,
    "editable": false,
    "id": "03dc170c"
   },
   "source": [
    "### Удаление пропусков"
   ]
  },
  {
   "cell_type": "markdown",
   "id": "a4f54eef",
   "metadata": {
    "deletable": false,
    "editable": false,
    "id": "a4f54eef"
   },
   "source": [
    "**Задание 4. Выведите количество пропущенных значений для каждого столбца. Используйте комбинацию двух методов.**"
   ]
  },
  {
   "cell_type": "code",
   "execution_count": 4,
   "id": "2dc372b2",
   "metadata": {
    "deletable": false,
    "id": "2dc372b2",
    "outputId": "81f4d817-781c-465c-ed15-91ce4446810d"
   },
   "outputs": [
    {
     "data": {
      "text/plain": [
       "children               0\n",
       "days_employed       2174\n",
       "dob_years              0\n",
       "education              0\n",
       "education_id           0\n",
       "family_status          0\n",
       "family_status_id       0\n",
       "gender                 0\n",
       "income_type            0\n",
       "debt                   0\n",
       "total_income        2174\n",
       "purpose                0\n",
       "dtype: int64"
      ]
     },
     "execution_count": 4,
     "metadata": {},
     "output_type": "execute_result"
    }
   ],
   "source": [
    "data.isna().sum()"
   ]
  },
  {
   "cell_type": "markdown",
   "id": "14f011b1",
   "metadata": {
    "deletable": false,
    "editable": false,
    "id": "14f011b1"
   },
   "source": [
    "**Задание 5. В двух столбцах есть пропущенные значения. Один из них — `days_employed`. Пропуски в этом столбце вы обработаете на следующем этапе. Другой столбец с пропущенными значениями — `total_income` — хранит данные о доходах. На сумму дохода сильнее всего влияет тип занятости, поэтому заполнить пропуски в этом столбце нужно медианным значением по каждому типу из столбца `income_type`. Например, у человека с типом занятости `сотрудник` пропуск в столбце `total_income` должен быть заполнен медианным доходом среди всех записей с тем же типом.**"
   ]
  },
  {
   "cell_type": "code",
   "execution_count": 5,
   "id": "bdabfb6e",
   "metadata": {
    "deletable": false,
    "id": "bdabfb6e"
   },
   "outputs": [],
   "source": [
    "for t in data['income_type'].unique():\n",
    "    data.loc[(data['income_type'] == t) & (data['total_income'].isna()), 'total_income'] = \\\n",
    "    data.loc[(data['income_type'] == t), 'total_income'].median()"
   ]
  },
  {
   "cell_type": "markdown",
   "id": "5be34059",
   "metadata": {
    "deletable": false,
    "editable": false,
    "id": "5be34059"
   },
   "source": [
    "### Обработка аномальных значений"
   ]
  },
  {
   "cell_type": "markdown",
   "id": "a87606cb",
   "metadata": {
    "deletable": false,
    "editable": false,
    "id": "a87606cb"
   },
   "source": [
    "**Задание 6. В данных могут встречаться артефакты (аномалии) — значения, которые не отражают действительность и появились по какой-то ошибке. таким артефактом будет отрицательное количество дней трудового стажа в столбце `days_employed`. Для реальных данных это нормально. Обработайте значения в этом столбце: замените все отрицательные значения положительными с помощью метода `abs()`.**"
   ]
  },
  {
   "cell_type": "code",
   "execution_count": 6,
   "id": "020c46cc",
   "metadata": {
    "deletable": false,
    "id": "020c46cc"
   },
   "outputs": [],
   "source": [
    "data['days_employed'] = data['days_employed'].abs()"
   ]
  },
  {
   "cell_type": "markdown",
   "id": "45538a3a",
   "metadata": {
    "deletable": false,
    "editable": false,
    "id": "45538a3a"
   },
   "source": [
    "**Задание 7. Для каждого типа занятости выведите медианное значение трудового стажа `days_employed` в днях.**"
   ]
  },
  {
   "cell_type": "code",
   "execution_count": 7,
   "id": "cd3e6328",
   "metadata": {
    "deletable": false,
    "id": "cd3e6328",
    "outputId": "801ef80e-522b-4668-f34e-565af7432bcf"
   },
   "outputs": [
    {
     "data": {
      "text/plain": [
       "income_type\n",
       "безработный        366413.652744\n",
       "в декрете            3296.759962\n",
       "госслужащий          2689.368353\n",
       "компаньон            1547.382223\n",
       "пенсионер          365213.306266\n",
       "предприниматель       520.848083\n",
       "сотрудник            1574.202821\n",
       "студент               578.751554\n",
       "Name: days_employed, dtype: float64"
      ]
     },
     "execution_count": 7,
     "metadata": {},
     "output_type": "execute_result"
    }
   ],
   "source": [
    "data.groupby('income_type')['days_employed'].agg('median')"
   ]
  },
  {
   "cell_type": "markdown",
   "id": "90c5f058",
   "metadata": {
    "deletable": false,
    "editable": false,
    "id": "90c5f058"
   },
   "source": [
    "У двух типов (безработные и пенсионеры) получатся аномально большие значения. Исправить такие значения сложно, поэтому оставьте их как есть."
   ]
  },
  {
   "cell_type": "markdown",
   "id": "9652e50d",
   "metadata": {
    "deletable": false,
    "editable": false,
    "id": "9652e50d"
   },
   "source": [
    "**Задание 8. Выведите перечень уникальных значений столбца `children`.**"
   ]
  },
  {
   "cell_type": "code",
   "execution_count": 8,
   "id": "dbb37b8e",
   "metadata": {
    "deletable": false,
    "id": "dbb37b8e",
    "outputId": "6975b15c-7f95-4697-d16d-a0c79b657b03"
   },
   "outputs": [
    {
     "data": {
      "text/plain": [
       "array([ 1,  0,  3,  2, -1,  4, 20,  5])"
      ]
     },
     "execution_count": 8,
     "metadata": {},
     "output_type": "execute_result"
    }
   ],
   "source": [
    "data['children'].unique()"
   ]
  },
  {
   "cell_type": "markdown",
   "id": "2b8b0715",
   "metadata": {
    "deletable": false,
    "editable": false,
    "id": "2b8b0715"
   },
   "source": [
    "**Задание 9. В столбце `children` есть два аномальных значения. Удалите строки, в которых встречаются такие аномальные значения из датафрейма `data`.**"
   ]
  },
  {
   "cell_type": "code",
   "execution_count": 9,
   "id": "20009df8",
   "metadata": {
    "deletable": false,
    "id": "20009df8"
   },
   "outputs": [],
   "source": [
    "data = data[(data['children'] != -1) & (data['children'] != 20)]"
   ]
  },
  {
   "cell_type": "markdown",
   "id": "8c6ac9f1",
   "metadata": {
    "deletable": false,
    "editable": false,
    "id": "8c6ac9f1"
   },
   "source": [
    "**Задание 10. Ещё раз выведите перечень уникальных значений столбца `children`, чтобы убедиться, что артефакты удалены.**"
   ]
  },
  {
   "cell_type": "code",
   "execution_count": 10,
   "id": "07337b81",
   "metadata": {
    "deletable": false,
    "id": "07337b81",
    "outputId": "b2097101-d49d-44d9-901b-32a65c9463d1"
   },
   "outputs": [
    {
     "data": {
      "text/plain": [
       "array([1, 0, 3, 2, 4, 5])"
      ]
     },
     "execution_count": 10,
     "metadata": {},
     "output_type": "execute_result"
    }
   ],
   "source": [
    "data['children'].unique()"
   ]
  },
  {
   "cell_type": "markdown",
   "id": "ee3f52d4",
   "metadata": {
    "deletable": false,
    "editable": false,
    "id": "ee3f52d4"
   },
   "source": [
    "### Удаление пропусков (продолжение)"
   ]
  },
  {
   "cell_type": "markdown",
   "id": "a700b0e4",
   "metadata": {
    "deletable": false,
    "editable": false,
    "id": "a700b0e4"
   },
   "source": [
    "**Задание 11. Заполните пропуски в столбце `days_employed` медианными значениями по каждого типа занятости `income_type`.**"
   ]
  },
  {
   "cell_type": "code",
   "execution_count": 11,
   "id": "61946b83",
   "metadata": {
    "deletable": false,
    "id": "61946b83"
   },
   "outputs": [],
   "source": [
    "for t in data['income_type'].unique():\n",
    "    data.loc[(data['income_type'] == t) & (data['days_employed'].isna()), 'days_employed'] = \\\n",
    "    data.loc[(data['income_type'] == t), 'days_employed'].median()"
   ]
  },
  {
   "cell_type": "markdown",
   "id": "550dcd9b",
   "metadata": {
    "deletable": false,
    "editable": false,
    "id": "550dcd9b"
   },
   "source": [
    "**Задание 12. Убедитесь, что все пропуски заполнены. Проверьте себя и ещё раз выведите количество пропущенных значений для каждого столбца с помощью двух методов.**"
   ]
  },
  {
   "cell_type": "code",
   "execution_count": 12,
   "id": "937c7014",
   "metadata": {
    "deletable": false,
    "id": "937c7014",
    "outputId": "8da1e4e1-358e-4e87-98c9-f261bce0a7b2"
   },
   "outputs": [
    {
     "data": {
      "text/plain": [
       "children            0\n",
       "days_employed       0\n",
       "dob_years           0\n",
       "education           0\n",
       "education_id        0\n",
       "family_status       0\n",
       "family_status_id    0\n",
       "gender              0\n",
       "income_type         0\n",
       "debt                0\n",
       "total_income        0\n",
       "purpose             0\n",
       "dtype: int64"
      ]
     },
     "execution_count": 12,
     "metadata": {},
     "output_type": "execute_result"
    }
   ],
   "source": [
    "data.isna().sum()"
   ]
  },
  {
   "cell_type": "markdown",
   "id": "d522e295",
   "metadata": {
    "deletable": false,
    "editable": false,
    "id": "d522e295"
   },
   "source": [
    "### Изменение типов данных"
   ]
  },
  {
   "cell_type": "markdown",
   "id": "c229c581",
   "metadata": {
    "deletable": false,
    "editable": false,
    "id": "c229c581"
   },
   "source": [
    "**Задание 13. Замените вещественный тип данных в столбце `total_income` на целочисленный с помощью метода `astype()`.**"
   ]
  },
  {
   "cell_type": "code",
   "execution_count": 13,
   "id": "31036462",
   "metadata": {
    "deletable": false,
    "id": "31036462"
   },
   "outputs": [],
   "source": [
    "data['total_income'] = data['total_income'].astype(int)"
   ]
  },
  {
   "cell_type": "markdown",
   "id": "b8e3d1d9",
   "metadata": {
    "deletable": false,
    "editable": false,
    "id": "b8e3d1d9"
   },
   "source": [
    "### Обработка дубликатов"
   ]
  },
  {
   "cell_type": "markdown",
   "id": "9be53c49",
   "metadata": {
    "deletable": false,
    "editable": false,
    "id": "9be53c49"
   },
   "source": [
    "**Задание 14. Обработайте неявные дубликаты в столбце `education`. В этом столбце есть одни и те же значения, но записанные по-разному: с использованием заглавных и строчных букв. Приведите их к нижнему регистру.**"
   ]
  },
  {
   "cell_type": "code",
   "execution_count": 14,
   "id": "d89e73e1",
   "metadata": {
    "deletable": false,
    "id": "d89e73e1"
   },
   "outputs": [],
   "source": [
    "data['education'] = data['education'].str.lower()"
   ]
  },
  {
   "cell_type": "markdown",
   "id": "01d4500e",
   "metadata": {
    "deletable": false,
    "editable": false,
    "id": "01d4500e"
   },
   "source": [
    "**Задание 15. Выведите на экран количество строк-дубликатов в данных. Если такие строки присутствуют, удалите их.**"
   ]
  },
  {
   "cell_type": "code",
   "execution_count": 15,
   "id": "e10efb23",
   "metadata": {
    "deletable": false,
    "id": "e10efb23",
    "outputId": "9684deba-1934-42d1-99e1-cda61740f822"
   },
   "outputs": [
    {
     "data": {
      "text/plain": [
       "71"
      ]
     },
     "execution_count": 15,
     "metadata": {},
     "output_type": "execute_result"
    }
   ],
   "source": [
    "data.duplicated().sum()"
   ]
  },
  {
   "cell_type": "code",
   "execution_count": 16,
   "id": "df853f20",
   "metadata": {
    "deletable": false,
    "id": "df853f20"
   },
   "outputs": [],
   "source": [
    "data = data.drop_duplicates()"
   ]
  },
  {
   "cell_type": "markdown",
   "id": "627be38f",
   "metadata": {
    "deletable": false,
    "editable": false,
    "id": "627be38f"
   },
   "source": [
    "### Категоризация данных"
   ]
  },
  {
   "cell_type": "markdown",
   "id": "4684c3e0",
   "metadata": {
    "deletable": false,
    "editable": false,
    "id": "4684c3e0"
   },
   "source": [
    "**Задание 16. На основании диапазонов, указанных ниже, создайте в датафрейме `data` столбец `total_income_category` с категориями:**\n",
    "\n",
    "- 0–30000 — `'E'`;\n",
    "- 30001–50000 — `'D'`;\n",
    "- 50001–200000 — `'C'`;\n",
    "- 200001–1000000 — `'B'`;\n",
    "- 1000001 и выше — `'A'`.\n",
    "\n",
    "\n",
    "**Например, кредитополучателю с доходом 25000 нужно назначить категорию `'E'`, а клиенту, получающему 235000, — `'B'`. Используйте собственную функцию с именем `categorize_income()` и метод `apply()`.**"
   ]
  },
  {
   "cell_type": "code",
   "execution_count": 17,
   "id": "78965238",
   "metadata": {
    "deletable": false,
    "id": "78965238"
   },
   "outputs": [],
   "source": [
    "def categorize_income(income):\n",
    "    try:\n",
    "        if 0 <= income <= 30000:\n",
    "            return 'E'\n",
    "        elif 30001 <= income <= 50000:\n",
    "            return 'D'\n",
    "        elif 50001 <= income <= 200000:\n",
    "            return 'C'\n",
    "        elif 200001 <= income <= 1000000:\n",
    "            return 'B'\n",
    "        elif income >= 1000001:\n",
    "            return 'A'\n",
    "    except:\n",
    "        pass\n",
    "    "
   ]
  },
  {
   "cell_type": "code",
   "execution_count": 18,
   "id": "0980ada1",
   "metadata": {
    "deletable": false,
    "id": "0980ada1"
   },
   "outputs": [],
   "source": [
    "data['total_income_category'] = data['total_income'].apply(categorize_income)"
   ]
  },
  {
   "cell_type": "markdown",
   "id": "9917bba0",
   "metadata": {
    "deletable": false,
    "editable": false,
    "id": "9917bba0"
   },
   "source": [
    "**Задание 17. Выведите на экран перечень уникальных целей взятия кредита из столбца `purpose`.**"
   ]
  },
  {
   "cell_type": "code",
   "execution_count": 19,
   "id": "ee07b65e",
   "metadata": {
    "deletable": false,
    "id": "ee07b65e",
    "outputId": "673c12d9-7d7e-4ae0-9812-c622c89dd244"
   },
   "outputs": [
    {
     "data": {
      "text/plain": [
       "array(['покупка жилья', 'приобретение автомобиля',\n",
       "       'дополнительное образование', 'сыграть свадьбу',\n",
       "       'операции с жильем', 'образование', 'на проведение свадьбы',\n",
       "       'покупка жилья для семьи', 'покупка недвижимости',\n",
       "       'покупка коммерческой недвижимости', 'покупка жилой недвижимости',\n",
       "       'строительство собственной недвижимости', 'недвижимость',\n",
       "       'строительство недвижимости', 'на покупку подержанного автомобиля',\n",
       "       'на покупку своего автомобиля',\n",
       "       'операции с коммерческой недвижимостью',\n",
       "       'строительство жилой недвижимости', 'жилье',\n",
       "       'операции со своей недвижимостью', 'автомобили',\n",
       "       'заняться образованием', 'сделка с подержанным автомобилем',\n",
       "       'получение образования', 'автомобиль', 'свадьба',\n",
       "       'получение дополнительного образования', 'покупка своего жилья',\n",
       "       'операции с недвижимостью', 'получение высшего образования',\n",
       "       'свой автомобиль', 'сделка с автомобилем',\n",
       "       'профильное образование', 'высшее образование',\n",
       "       'покупка жилья для сдачи', 'на покупку автомобиля', 'ремонт жилью',\n",
       "       'заняться высшим образованием'], dtype=object)"
      ]
     },
     "execution_count": 19,
     "metadata": {},
     "output_type": "execute_result"
    }
   ],
   "source": [
    "data['purpose'].unique()"
   ]
  },
  {
   "cell_type": "markdown",
   "id": "52b79d56",
   "metadata": {
    "deletable": false,
    "editable": false,
    "id": "52b79d56"
   },
   "source": [
    "**Задание 18. Создайте функцию, которая на основании данных из столбца `purpose` сформирует новый столбец `purpose_category`, в который войдут следующие категории:**\n",
    "\n",
    "- `'операции с автомобилем'`,\n",
    "- `'операции с недвижимостью'`,\n",
    "- `'проведение свадьбы'`,\n",
    "- `'получение образования'`.\n",
    "\n",
    "**Например, если в столбце `purpose` находится подстрока `'на покупку автомобиля'`, то в столбце `purpose_category` должна появиться строка `'операции с автомобилем'`.**\n",
    "\n",
    "**Используйте собственную функцию с именем `categorize_purpose()` и метод `apply()`. Изучите данные в столбце `purpose` и определите, какие подстроки помогут вам правильно определить категорию.**"
   ]
  },
  {
   "cell_type": "code",
   "execution_count": 20,
   "id": "be41da5d",
   "metadata": {
    "deletable": false,
    "id": "be41da5d"
   },
   "outputs": [],
   "source": [
    "def categorize_purpose(row):\n",
    "    try:\n",
    "        if 'автом' in row:\n",
    "            return 'операции с автомобилем'\n",
    "        elif 'жил' in row or 'недвиж' in row:\n",
    "            return 'операции с недвижимостью'\n",
    "        elif 'свад' in row:\n",
    "            return 'проведение свадьбы'\n",
    "        elif 'образов' in row:\n",
    "            return 'получение образования'\n",
    "    except:\n",
    "        return 'нет категории'"
   ]
  },
  {
   "cell_type": "code",
   "execution_count": 21,
   "id": "94c4a19a",
   "metadata": {
    "deletable": false,
    "id": "94c4a19a"
   },
   "outputs": [],
   "source": [
    "data['purpose_category'] = data['purpose'].apply(categorize_purpose)"
   ]
  },
  {
   "cell_type": "markdown",
   "id": "3d596c34",
   "metadata": {
    "deletable": false,
    "editable": false,
    "id": "3d596c34"
   },
   "source": [
    "### Шаг 3. Исследуйте данные и ответьте на вопросы"
   ]
  },
  {
   "cell_type": "markdown",
   "id": "648db036",
   "metadata": {
    "deletable": false,
    "editable": false,
    "id": "648db036"
   },
   "source": [
    "#### 3.1 Есть ли зависимость между количеством детей и возвратом кредита в срок?"
   ]
  },
  {
   "cell_type": "code",
   "execution_count": 22,
   "id": "7fcff25e",
   "metadata": {
    "deletable": false,
    "id": "7fcff25e"
   },
   "outputs": [
    {
     "data": {
      "text/html": [
       "<div>\n",
       "<style scoped>\n",
       "    .dataframe tbody tr th:only-of-type {\n",
       "        vertical-align: middle;\n",
       "    }\n",
       "\n",
       "    .dataframe tbody tr th {\n",
       "        vertical-align: top;\n",
       "    }\n",
       "\n",
       "    .dataframe thead th {\n",
       "        text-align: right;\n",
       "    }\n",
       "</style>\n",
       "<table border=\"1\" class=\"dataframe\">\n",
       "  <thead>\n",
       "    <tr style=\"text-align: right;\">\n",
       "      <th></th>\n",
       "      <th>count</th>\n",
       "      <th>sum</th>\n",
       "      <th>mean</th>\n",
       "    </tr>\n",
       "    <tr>\n",
       "      <th>children</th>\n",
       "      <th></th>\n",
       "      <th></th>\n",
       "      <th></th>\n",
       "    </tr>\n",
       "  </thead>\n",
       "  <tbody>\n",
       "    <tr>\n",
       "      <th>4</th>\n",
       "      <td>41</td>\n",
       "      <td>4</td>\n",
       "      <td>0.097561</td>\n",
       "    </tr>\n",
       "    <tr>\n",
       "      <th>2</th>\n",
       "      <td>2052</td>\n",
       "      <td>194</td>\n",
       "      <td>0.094542</td>\n",
       "    </tr>\n",
       "    <tr>\n",
       "      <th>1</th>\n",
       "      <td>4808</td>\n",
       "      <td>444</td>\n",
       "      <td>0.092346</td>\n",
       "    </tr>\n",
       "    <tr>\n",
       "      <th>3</th>\n",
       "      <td>330</td>\n",
       "      <td>27</td>\n",
       "      <td>0.081818</td>\n",
       "    </tr>\n",
       "    <tr>\n",
       "      <th>0</th>\n",
       "      <td>14091</td>\n",
       "      <td>1063</td>\n",
       "      <td>0.075438</td>\n",
       "    </tr>\n",
       "    <tr>\n",
       "      <th>5</th>\n",
       "      <td>9</td>\n",
       "      <td>0</td>\n",
       "      <td>0.000000</td>\n",
       "    </tr>\n",
       "  </tbody>\n",
       "</table>\n",
       "</div>"
      ],
      "text/plain": [
       "          count   sum      mean\n",
       "children                       \n",
       "4            41     4  0.097561\n",
       "2          2052   194  0.094542\n",
       "1          4808   444  0.092346\n",
       "3           330    27  0.081818\n",
       "0         14091  1063  0.075438\n",
       "5             9     0  0.000000"
      ]
     },
     "execution_count": 22,
     "metadata": {},
     "output_type": "execute_result"
    }
   ],
   "source": [
    "data_children = data.groupby('children')['debt'].agg(['count', 'sum', 'mean']) #группируем данные таблицы data по столбцу children и debt, применяем к ним агрегирующе функции\n",
    "data_children.sort_values(by = 'mean', ascending = False, inplace = True) #сортируем по полученному среднему значению в порядке убывания\n",
    "data_children #выводим полученную таблицу для анализа\n"
   ]
  },
  {
   "cell_type": "markdown",
   "id": "2eb9088e",
   "metadata": {
    "deletable": false,
    "id": "2eb9088e"
   },
   "source": [
    "# Вывод: \n",
    "в соответствии с полученными данными из таблицы, прослеживается зависимость между количеством детей в семье и возвратом кредита в срок - чем больше детей в семье, тем больше вероятность в задолженности кредита. При этом данные по семьям с 3, 4 и 5 детьми не релевантные, т.к. значительно расходятся по количеству анализируемых ячеек.\n"
   ]
  },
  {
   "cell_type": "markdown",
   "id": "74c9b3a7",
   "metadata": {
    "deletable": false,
    "editable": false,
    "id": "74c9b3a7"
   },
   "source": [
    "#### 3.2 Есть ли зависимость между семейным положением и возвратом кредита в срок?"
   ]
  },
  {
   "cell_type": "code",
   "execution_count": 23,
   "id": "8098ab3b",
   "metadata": {
    "deletable": false,
    "id": "8098ab3b"
   },
   "outputs": [
    {
     "data": {
      "text/html": [
       "<div>\n",
       "<style scoped>\n",
       "    .dataframe tbody tr th:only-of-type {\n",
       "        vertical-align: middle;\n",
       "    }\n",
       "\n",
       "    .dataframe tbody tr th {\n",
       "        vertical-align: top;\n",
       "    }\n",
       "\n",
       "    .dataframe thead th {\n",
       "        text-align: right;\n",
       "    }\n",
       "</style>\n",
       "<table border=\"1\" class=\"dataframe\">\n",
       "  <thead>\n",
       "    <tr style=\"text-align: right;\">\n",
       "      <th></th>\n",
       "      <th>count</th>\n",
       "      <th>sum</th>\n",
       "      <th>mean</th>\n",
       "    </tr>\n",
       "    <tr>\n",
       "      <th>family_status</th>\n",
       "      <th></th>\n",
       "      <th></th>\n",
       "      <th></th>\n",
       "    </tr>\n",
       "  </thead>\n",
       "  <tbody>\n",
       "    <tr>\n",
       "      <th>Не женат / не замужем</th>\n",
       "      <td>2796</td>\n",
       "      <td>273</td>\n",
       "      <td>0.097639</td>\n",
       "    </tr>\n",
       "    <tr>\n",
       "      <th>гражданский брак</th>\n",
       "      <td>4134</td>\n",
       "      <td>385</td>\n",
       "      <td>0.093130</td>\n",
       "    </tr>\n",
       "    <tr>\n",
       "      <th>женат / замужем</th>\n",
       "      <td>12261</td>\n",
       "      <td>927</td>\n",
       "      <td>0.075606</td>\n",
       "    </tr>\n",
       "    <tr>\n",
       "      <th>в разводе</th>\n",
       "      <td>1189</td>\n",
       "      <td>84</td>\n",
       "      <td>0.070648</td>\n",
       "    </tr>\n",
       "    <tr>\n",
       "      <th>вдовец / вдова</th>\n",
       "      <td>951</td>\n",
       "      <td>63</td>\n",
       "      <td>0.066246</td>\n",
       "    </tr>\n",
       "  </tbody>\n",
       "</table>\n",
       "</div>"
      ],
      "text/plain": [
       "                       count  sum      mean\n",
       "family_status                              \n",
       "Не женат / не замужем   2796  273  0.097639\n",
       "гражданский брак        4134  385  0.093130\n",
       "женат / замужем        12261  927  0.075606\n",
       "в разводе               1189   84  0.070648\n",
       "вдовец / вдова           951   63  0.066246"
      ]
     },
     "execution_count": 23,
     "metadata": {},
     "output_type": "execute_result"
    }
   ],
   "source": [
    "data_family_status = data.groupby('family_status')['debt'].agg(['count', 'sum', 'mean']) #группируем данные таблицы data по столбцу family_status и debt, применяем к ним агрегирующе функции\n",
    "data_family_status.sort_values(by = 'mean', ascending = False, inplace = True) #сортируем по полученному среднему значению в порядке убывания\n",
    "data_family_status #выводим полученную таблицу для анализа"
   ]
  },
  {
   "cell_type": "markdown",
   "id": "c389ca63",
   "metadata": {
    "deletable": false,
    "id": "c389ca63"
   },
   "source": [
    "# Вывод: \n",
    "в соответствии с полученными данными из таблицы, прослеживается зависимость между семейным положением и возвратом кредита в срок - наибольшая вероятность в задолженности кредита у не женатых/не замужних, и находящихся в гражданском браке, вероятность задолженности значительно ниже у женатых/замужних. При этом данные по статусам 'в разводе' и 'вдовец/вдова' требуют дополнительного анализа, т.к. значительно отличаются по количеству анализируемых ячеек."
   ]
  },
  {
   "cell_type": "markdown",
   "id": "9529de68",
   "metadata": {
    "deletable": false,
    "editable": false,
    "id": "9529de68"
   },
   "source": [
    "#### 3.3 Есть ли зависимость между уровнем дохода и возвратом кредита в срок?"
   ]
  },
  {
   "cell_type": "code",
   "execution_count": 24,
   "id": "8787f44a",
   "metadata": {
    "deletable": false,
    "id": "8787f44a"
   },
   "outputs": [
    {
     "data": {
      "text/html": [
       "<div>\n",
       "<style scoped>\n",
       "    .dataframe tbody tr th:only-of-type {\n",
       "        vertical-align: middle;\n",
       "    }\n",
       "\n",
       "    .dataframe tbody tr th {\n",
       "        vertical-align: top;\n",
       "    }\n",
       "\n",
       "    .dataframe thead th {\n",
       "        text-align: right;\n",
       "    }\n",
       "</style>\n",
       "<table border=\"1\" class=\"dataframe\">\n",
       "  <thead>\n",
       "    <tr style=\"text-align: right;\">\n",
       "      <th></th>\n",
       "      <th>count</th>\n",
       "      <th>sum</th>\n",
       "      <th>mean</th>\n",
       "    </tr>\n",
       "    <tr>\n",
       "      <th>categorize_income</th>\n",
       "      <th></th>\n",
       "      <th></th>\n",
       "      <th></th>\n",
       "    </tr>\n",
       "  </thead>\n",
       "  <tbody>\n",
       "    <tr>\n",
       "      <th>E</th>\n",
       "      <td>22</td>\n",
       "      <td>2</td>\n",
       "      <td>0.090909</td>\n",
       "    </tr>\n",
       "    <tr>\n",
       "      <th>C</th>\n",
       "      <td>15921</td>\n",
       "      <td>1353</td>\n",
       "      <td>0.084982</td>\n",
       "    </tr>\n",
       "    <tr>\n",
       "      <th>A</th>\n",
       "      <td>25</td>\n",
       "      <td>2</td>\n",
       "      <td>0.080000</td>\n",
       "    </tr>\n",
       "    <tr>\n",
       "      <th>B</th>\n",
       "      <td>5014</td>\n",
       "      <td>354</td>\n",
       "      <td>0.070602</td>\n",
       "    </tr>\n",
       "    <tr>\n",
       "      <th>D</th>\n",
       "      <td>349</td>\n",
       "      <td>21</td>\n",
       "      <td>0.060172</td>\n",
       "    </tr>\n",
       "  </tbody>\n",
       "</table>\n",
       "</div>"
      ],
      "text/plain": [
       "                   count   sum      mean\n",
       "categorize_income                       \n",
       "E                     22     2  0.090909\n",
       "C                  15921  1353  0.084982\n",
       "A                     25     2  0.080000\n",
       "B                   5014   354  0.070602\n",
       "D                    349    21  0.060172"
      ]
     },
     "execution_count": 24,
     "metadata": {},
     "output_type": "execute_result"
    }
   ],
   "source": [
    "data['categorize_income'] = data['total_income'].apply(categorize_income) #добавляем столбец с разбивкой по категории дохода categorize_income\n",
    "data_categorize_income = data.groupby('categorize_income')['debt'].agg(['count', 'sum', 'mean']) #группируем данные таблицы data по столбцу categorize_income и debt, применяем к ним агрегирующе функции\n",
    "data_categorize_income.sort_values(by = 'mean', ascending = False, inplace = True) #сортируем по полученному среднему значению в порядке убывания\n",
    "data_categorize_income #выводим полученную таблицу для анализа"
   ]
  },
  {
   "cell_type": "markdown",
   "id": "6dd14b57",
   "metadata": {
    "deletable": false,
    "id": "6dd14b57"
   },
   "source": [
    "# Вывод: \n",
    "в соответствии с полученными данными из таблицы и принятым обозначением по категориям дохода, прослеживается зависимость между уровнем дохода и возвратом кредита в срок - наибольшая вероятность в адолженности кредита у заёмщиков с меньшим доходом - у категории заёмщиков 'C' с доходом 50001–200000 больше вероятность задолженности на 1,5%, чем у категории 'B' с доходом 200001–1000000, при этом данные по категорям A, D и E не релевантны, т.к. значительно отличаются по количеству анализируемых ячеек и не могут быть учтены для анализа."
   ]
  },
  {
   "cell_type": "markdown",
   "id": "1dcc9b12",
   "metadata": {
    "deletable": false,
    "editable": false,
    "id": "1dcc9b12"
   },
   "source": [
    "#### 3.4 Как разные цели кредита влияют на его возврат в срок?"
   ]
  },
  {
   "cell_type": "code",
   "execution_count": 25,
   "id": "c602bc8b",
   "metadata": {
    "deletable": false,
    "id": "c602bc8b"
   },
   "outputs": [
    {
     "data": {
      "text/html": [
       "<div>\n",
       "<style scoped>\n",
       "    .dataframe tbody tr th:only-of-type {\n",
       "        vertical-align: middle;\n",
       "    }\n",
       "\n",
       "    .dataframe tbody tr th {\n",
       "        vertical-align: top;\n",
       "    }\n",
       "\n",
       "    .dataframe thead th {\n",
       "        text-align: right;\n",
       "    }\n",
       "</style>\n",
       "<table border=\"1\" class=\"dataframe\">\n",
       "  <thead>\n",
       "    <tr style=\"text-align: right;\">\n",
       "      <th></th>\n",
       "      <th>count</th>\n",
       "      <th>sum</th>\n",
       "      <th>mean</th>\n",
       "    </tr>\n",
       "    <tr>\n",
       "      <th>categorize_purpose</th>\n",
       "      <th></th>\n",
       "      <th></th>\n",
       "      <th></th>\n",
       "    </tr>\n",
       "  </thead>\n",
       "  <tbody>\n",
       "    <tr>\n",
       "      <th>операции с автомобилем</th>\n",
       "      <td>4279</td>\n",
       "      <td>400</td>\n",
       "      <td>0.093480</td>\n",
       "    </tr>\n",
       "    <tr>\n",
       "      <th>получение образования</th>\n",
       "      <td>3988</td>\n",
       "      <td>369</td>\n",
       "      <td>0.092528</td>\n",
       "    </tr>\n",
       "    <tr>\n",
       "      <th>проведение свадьбы</th>\n",
       "      <td>2313</td>\n",
       "      <td>183</td>\n",
       "      <td>0.079118</td>\n",
       "    </tr>\n",
       "    <tr>\n",
       "      <th>операции с недвижимостью</th>\n",
       "      <td>10751</td>\n",
       "      <td>780</td>\n",
       "      <td>0.072551</td>\n",
       "    </tr>\n",
       "  </tbody>\n",
       "</table>\n",
       "</div>"
      ],
      "text/plain": [
       "                          count  sum      mean\n",
       "categorize_purpose                            \n",
       "операции с автомобилем     4279  400  0.093480\n",
       "получение образования      3988  369  0.092528\n",
       "проведение свадьбы         2313  183  0.079118\n",
       "операции с недвижимостью  10751  780  0.072551"
      ]
     },
     "execution_count": 25,
     "metadata": {},
     "output_type": "execute_result"
    }
   ],
   "source": [
    "data['categorize_purpose'] = data['purpose'].apply(categorize_purpose) #добавляем столбец с разбивкой по категории дохода categorize_purpose\n",
    "data_categorize_purpose = data.groupby('categorize_purpose')['debt'].agg(['count', 'sum', 'mean']) #группируем данные таблицы data по столбцу categorize_purpose и debt, применяем к ним агрегирующе функции\n",
    "data_categorize_purpose.sort_values(by = 'mean', ascending = False, inplace = True) #сортируем по полученному среднему значению в порядке убывания\n",
    "data_categorize_purpose #выводим полученную таблицу для анализа"
   ]
  },
  {
   "cell_type": "markdown",
   "id": "cf05ed63",
   "metadata": {
    "deletable": false,
    "id": "cf05ed63"
   },
   "source": [
    "# Вывод: \n",
    "в соответствии с полученными данными из таблицы и принятым обозначением по целям кредита, наибольшую вероятность в его задолженности составляют операции с автомобилем, далее идут получение образования и \n",
    "проведение свадьбы, а самыми менее рисковыми являются операции с недвижимостью."
   ]
  },
  {
   "cell_type": "markdown",
   "id": "46c1f10b",
   "metadata": {
    "deletable": false,
    "editable": false,
    "id": "46c1f10b"
   },
   "source": [
    "#### 3.5 Приведите возможные причины появления пропусков в исходных данных."
   ]
  },
  {
   "cell_type": "markdown",
   "id": "3697d2a9",
   "metadata": {
    "deletable": false,
    "id": "3697d2a9"
   },
   "source": [
    "1. Технические или системные ошибки (например, ошибка при выгрузке данных из системы).\n",
    "2. Человеческий фактор (например, оператор или клиент не внес нужную информацию в ячейку таблицы или анкеты)."
   ]
  },
  {
   "cell_type": "markdown",
   "id": "3137d257",
   "metadata": {
    "deletable": false,
    "editable": false,
    "id": "3137d257"
   },
   "source": [
    "#### 3.6 Объясните, почему заполнить пропуски медианным значением — лучшее решение для количественных переменных."
   ]
  },
  {
   "cell_type": "markdown",
   "id": "cf40012a",
   "metadata": {
    "deletable": false,
    "id": "cf40012a"
   },
   "source": [
    "  Для количественных переменных лучше заполнять пропуски медианным значением (метод median()) в связи с тем, что в наборе этих данных могут быть 'выбросы' - слишком малые или слишком большие величины, которые могут исказить общую аналитику в случае применения средних значений (применение метода mean())."
   ]
  },
  {
   "cell_type": "markdown",
   "id": "57bc304e",
   "metadata": {
    "deletable": false,
    "editable": false,
    "id": "57bc304e"
   },
   "source": [
    "### Шаг 4: общий вывод."
   ]
  },
  {
   "cell_type": "markdown",
   "id": "1ab75d1c",
   "metadata": {
    "deletable": false,
    "id": "1ab75d1c"
   },
   "source": [
    "### По запросу кредитного отдела были проанализированы данные со статистикой платёжеспособности по 21 525 клиентам банка.\n",
    "    \n",
    "  #### В результате предобработки исходных данных:\n",
    "    - было выявлено по 2174 пропусков в столбцах days_employed (общий трудовой стаж в днях) и total_income(ежемесячный доход), которые были заменены соответствующими медианными значениями;\n",
    "    - в столбце children (количество детей в семье) были удалены два аномальных значения;\n",
    "    - вещественный тип данных в столбце total_income (ежемесячный доход) был заменен на целочисленный, т.к. доход анализируется как количественная величина;\n",
    "    - были удалены неявные дубликаты в столбце education (уровень образования клиента) с приведением букв к нижнему регистру, которые искажали статистику.\n",
    "    \n",
    " #### Выводы по целям анализа (влияет ли семейное положение и количество детей клиента на факт погашения кредита в срок): \n",
    "    - прослеживается зависимость между количеством детей в семье и возвратом кредита в срок - чем больше детей в семье, тем больше вероятность в задолженности кредита, так, процент просроченных кредитов у заёмщиков без детей - 7,5%, у заёмщиков с одним ребенком - 9,2%, с двумя детьми - 9,4%, при этом данные по заёмщикам с 3, 4 и 5 детьми не релеванты, т.к. значительно отличаются по количеству анализируемых ячеек и не могут быть учтены для анализа. \n",
    "    - прослеживается зависимость между семейным положением и возвратом кредита в срок - наибольшая вероятность в задолженности кредита у не женатых/не замужних (9,7% - процент просроченных кредитов), и находящихся в гражданском браке (9,3% - процент просроченных кредитов), вероятность задолженности значительно ниже у женатых/замужних (7.5% - процент просроченных кредитов). При этом данные по категории 'в разводе', и 'вдовец / вдова' не релеванты, т.к. значительно отличаются по количеству анализируемых ячеек и не могут быть учтены для анализа. \n",
    "    \n",
    "  #### Дополнительные выводы, полученные в результате анализа:\n",
    "    - прослеживается зависимость между уровнем дохода и возвратом кредита в срок - наибольшая вероятность в задолженности кредита у заёмщиков с меньшим доходом - у категории заёмщиков 'C' с доходом 50001–200000 больше вероятность задолженности на 1,5%, чем у категории 'B' с доходом 200001–1000000, при этом данные по категорям A, D и E не релевантны, т.к. значительно отличаются по количеству анализируемых ячеек и не могут быть учтены для анализа.\n",
    "    - наибольшую вероятность в его задолженности составляют операции с автомобилем (9,3% - процент просроченных кредитов), далее идут получение образования (9,2% - процент просроченных кредитов) и проведение свадьбы (7,9% - процент просроченных кредитов), а самыми менее рисковыми являются операции с недвижимостью (7,2% - процент просроченных кредитов).\n",
    "    \n",
    " #### Рекомендации:   \n",
    "   -  рекомендуем при построении кредитного скоринга учесть полученные в результате анализа платёжеспособности данные и предоставленные расчёты.  \n"
   ]
  }
 ],
 "metadata": {
  "ExecuteTimeLog": [
   {
    "duration": 53,
    "start_time": "2023-08-01T08:12:43.055Z"
   },
   {
    "duration": 683,
    "start_time": "2023-08-01T08:13:31.400Z"
   },
   {
    "duration": 25,
    "start_time": "2023-08-01T08:13:32.085Z"
   },
   {
    "duration": 53,
    "start_time": "2023-08-01T08:13:32.113Z"
   },
   {
    "duration": 28,
    "start_time": "2023-08-01T08:13:32.167Z"
   },
   {
    "duration": 75,
    "start_time": "2023-08-01T08:13:32.198Z"
   },
   {
    "duration": 4,
    "start_time": "2023-08-01T08:13:32.275Z"
   },
   {
    "duration": 26,
    "start_time": "2023-08-01T08:13:32.280Z"
   },
   {
    "duration": 13,
    "start_time": "2023-08-01T08:13:32.307Z"
   },
   {
    "duration": 19,
    "start_time": "2023-08-01T08:13:32.322Z"
   },
   {
    "duration": 8,
    "start_time": "2023-08-01T08:13:32.343Z"
   },
   {
    "duration": 57,
    "start_time": "2023-08-01T08:13:32.353Z"
   },
   {
    "duration": 11,
    "start_time": "2023-08-01T08:13:32.412Z"
   },
   {
    "duration": 17,
    "start_time": "2023-08-01T08:13:32.424Z"
   },
   {
    "duration": 20,
    "start_time": "2023-08-01T08:13:32.444Z"
   },
   {
    "duration": 23,
    "start_time": "2023-08-01T08:13:32.466Z"
   },
   {
    "duration": 18,
    "start_time": "2023-08-01T08:13:32.491Z"
   },
   {
    "duration": 4,
    "start_time": "2023-08-01T08:13:32.511Z"
   },
   {
    "duration": 17,
    "start_time": "2023-08-01T08:13:32.517Z"
   },
   {
    "duration": 17,
    "start_time": "2023-08-01T08:13:32.535Z"
   },
   {
    "duration": 5,
    "start_time": "2023-08-01T08:13:32.554Z"
   },
   {
    "duration": 15,
    "start_time": "2023-08-01T08:13:32.561Z"
   },
   {
    "duration": 12,
    "start_time": "2023-08-01T08:13:32.578Z"
   },
   {
    "duration": 3,
    "start_time": "2023-08-01T08:13:32.591Z"
   },
   {
    "duration": 11,
    "start_time": "2023-08-01T08:13:32.595Z"
   },
   {
    "duration": 8,
    "start_time": "2023-08-01T08:13:32.608Z"
   },
   {
    "duration": 20,
    "start_time": "2023-08-01T08:16:47.398Z"
   },
   {
    "duration": 23,
    "start_time": "2023-08-01T08:17:51.618Z"
   },
   {
    "duration": 26,
    "start_time": "2023-08-01T08:18:35.501Z"
   },
   {
    "duration": 8,
    "start_time": "2023-08-01T08:18:44.507Z"
   },
   {
    "duration": 7,
    "start_time": "2023-08-01T08:20:11.259Z"
   },
   {
    "duration": 7,
    "start_time": "2023-08-01T08:20:37.011Z"
   },
   {
    "duration": 7,
    "start_time": "2023-08-01T08:21:42.947Z"
   },
   {
    "duration": 8,
    "start_time": "2023-08-01T08:22:10.335Z"
   },
   {
    "duration": 8,
    "start_time": "2023-08-01T08:26:05.344Z"
   },
   {
    "duration": 19,
    "start_time": "2023-08-01T08:31:30.958Z"
   },
   {
    "duration": 8,
    "start_time": "2023-08-01T08:35:53.988Z"
   },
   {
    "duration": 7,
    "start_time": "2023-08-01T08:36:15.478Z"
   },
   {
    "duration": 8,
    "start_time": "2023-08-01T08:36:27.975Z"
   },
   {
    "duration": 8,
    "start_time": "2023-08-01T08:42:36.006Z"
   },
   {
    "duration": 69,
    "start_time": "2023-08-01T08:48:54.840Z"
   },
   {
    "duration": 12,
    "start_time": "2023-08-01T08:49:17.220Z"
   },
   {
    "duration": 5,
    "start_time": "2023-08-01T08:52:27.357Z"
   },
   {
    "duration": 3,
    "start_time": "2023-08-01T08:52:36.566Z"
   },
   {
    "duration": 11,
    "start_time": "2023-08-01T08:52:49.179Z"
   },
   {
    "duration": 0,
    "start_time": "2023-08-01T08:57:29.513Z"
   },
   {
    "duration": 5359,
    "start_time": "2023-08-01T08:57:43.678Z"
   },
   {
    "duration": 4752,
    "start_time": "2023-08-01T09:00:39.409Z"
   },
   {
    "duration": 12,
    "start_time": "2023-08-01T09:01:11.858Z"
   },
   {
    "duration": 11,
    "start_time": "2023-08-01T09:01:17.538Z"
   },
   {
    "duration": 14,
    "start_time": "2023-08-01T09:01:46.506Z"
   },
   {
    "duration": 7,
    "start_time": "2023-08-01T09:02:05.848Z"
   },
   {
    "duration": 6,
    "start_time": "2023-08-01T09:02:10.899Z"
   },
   {
    "duration": 12,
    "start_time": "2023-08-01T09:02:17.199Z"
   },
   {
    "duration": 12,
    "start_time": "2023-08-01T09:07:08.960Z"
   },
   {
    "duration": 0,
    "start_time": "2023-08-01T09:09:18.507Z"
   },
   {
    "duration": 4732,
    "start_time": "2023-08-01T09:09:20.079Z"
   },
   {
    "duration": 18,
    "start_time": "2023-08-01T09:20:27.794Z"
   },
   {
    "duration": 16,
    "start_time": "2023-08-01T09:20:56.504Z"
   },
   {
    "duration": 13,
    "start_time": "2023-08-01T09:26:25.149Z"
   },
   {
    "duration": 13,
    "start_time": "2023-08-01T09:26:45.400Z"
   },
   {
    "duration": 3959,
    "start_time": "2023-08-01T09:29:08.357Z"
   },
   {
    "duration": 14,
    "start_time": "2023-08-01T09:38:03.107Z"
   },
   {
    "duration": 13,
    "start_time": "2023-08-01T09:38:11.642Z"
   },
   {
    "duration": 523,
    "start_time": "2023-08-01T09:38:46.025Z"
   },
   {
    "duration": 25,
    "start_time": "2023-08-01T09:38:46.550Z"
   },
   {
    "duration": 15,
    "start_time": "2023-08-01T09:38:46.577Z"
   },
   {
    "duration": 9,
    "start_time": "2023-08-01T09:38:46.594Z"
   },
   {
    "duration": 57,
    "start_time": "2023-08-01T09:38:46.604Z"
   },
   {
    "duration": 4,
    "start_time": "2023-08-01T09:38:46.663Z"
   },
   {
    "duration": 10,
    "start_time": "2023-08-01T09:38:46.670Z"
   },
   {
    "duration": 7,
    "start_time": "2023-08-01T09:38:46.682Z"
   },
   {
    "duration": 12,
    "start_time": "2023-08-01T09:38:46.690Z"
   },
   {
    "duration": 7,
    "start_time": "2023-08-01T09:38:46.705Z"
   },
   {
    "duration": 57,
    "start_time": "2023-08-01T09:38:46.713Z"
   },
   {
    "duration": 10,
    "start_time": "2023-08-01T09:38:46.772Z"
   },
   {
    "duration": 5,
    "start_time": "2023-08-01T09:38:46.784Z"
   },
   {
    "duration": 15,
    "start_time": "2023-08-01T09:38:46.790Z"
   },
   {
    "duration": 48,
    "start_time": "2023-08-01T09:38:46.806Z"
   },
   {
    "duration": 19,
    "start_time": "2023-08-01T09:38:46.856Z"
   },
   {
    "duration": 4,
    "start_time": "2023-08-01T09:38:46.877Z"
   },
   {
    "duration": 13,
    "start_time": "2023-08-01T09:38:46.883Z"
   },
   {
    "duration": 7,
    "start_time": "2023-08-01T09:38:46.898Z"
   },
   {
    "duration": 4,
    "start_time": "2023-08-01T09:38:46.906Z"
   },
   {
    "duration": 40,
    "start_time": "2023-08-01T09:38:46.912Z"
   },
   {
    "duration": 74,
    "start_time": "2023-08-01T09:38:46.954Z"
   },
   {
    "duration": 0,
    "start_time": "2023-08-01T09:38:47.030Z"
   },
   {
    "duration": 0,
    "start_time": "2023-08-01T09:38:47.031Z"
   },
   {
    "duration": 0,
    "start_time": "2023-08-01T09:38:47.032Z"
   },
   {
    "duration": 38,
    "start_time": "2023-08-01T09:42:01.512Z"
   },
   {
    "duration": 16,
    "start_time": "2023-08-01T09:43:16.489Z"
   },
   {
    "duration": 8,
    "start_time": "2023-08-01T09:48:33.153Z"
   },
   {
    "duration": 451,
    "start_time": "2023-08-01T09:48:44.006Z"
   },
   {
    "duration": 26,
    "start_time": "2023-08-01T09:48:44.460Z"
   },
   {
    "duration": 15,
    "start_time": "2023-08-01T09:48:44.488Z"
   },
   {
    "duration": 9,
    "start_time": "2023-08-01T09:48:44.506Z"
   },
   {
    "duration": 63,
    "start_time": "2023-08-01T09:48:44.517Z"
   },
   {
    "duration": 4,
    "start_time": "2023-08-01T09:48:44.582Z"
   },
   {
    "duration": 12,
    "start_time": "2023-08-01T09:48:44.587Z"
   },
   {
    "duration": 4,
    "start_time": "2023-08-01T09:48:44.601Z"
   },
   {
    "duration": 12,
    "start_time": "2023-08-01T09:48:44.607Z"
   },
   {
    "duration": 5,
    "start_time": "2023-08-01T09:48:44.621Z"
   },
   {
    "duration": 39,
    "start_time": "2023-08-01T09:48:44.653Z"
   },
   {
    "duration": 10,
    "start_time": "2023-08-01T09:48:44.694Z"
   },
   {
    "duration": 5,
    "start_time": "2023-08-01T09:48:44.705Z"
   },
   {
    "duration": 12,
    "start_time": "2023-08-01T09:48:44.713Z"
   },
   {
    "duration": 57,
    "start_time": "2023-08-01T09:48:44.726Z"
   },
   {
    "duration": 25,
    "start_time": "2023-08-01T09:48:44.785Z"
   },
   {
    "duration": 4,
    "start_time": "2023-08-01T09:48:44.812Z"
   },
   {
    "duration": 16,
    "start_time": "2023-08-01T09:48:44.818Z"
   },
   {
    "duration": 23,
    "start_time": "2023-08-01T09:48:44.835Z"
   },
   {
    "duration": 78,
    "start_time": "2023-08-01T09:48:44.860Z"
   },
   {
    "duration": 45,
    "start_time": "2023-08-01T09:48:44.940Z"
   },
   {
    "duration": 120,
    "start_time": "2023-08-01T09:48:44.987Z"
   },
   {
    "duration": 0,
    "start_time": "2023-08-01T09:48:45.109Z"
   },
   {
    "duration": 0,
    "start_time": "2023-08-01T09:48:45.111Z"
   },
   {
    "duration": 0,
    "start_time": "2023-08-01T09:48:45.113Z"
   },
   {
    "duration": 9,
    "start_time": "2023-08-01T09:49:31.751Z"
   },
   {
    "duration": 9,
    "start_time": "2023-08-01T09:49:37.185Z"
   },
   {
    "duration": 8,
    "start_time": "2023-08-01T09:49:39.855Z"
   },
   {
    "duration": 8,
    "start_time": "2023-08-01T09:49:41.610Z"
   },
   {
    "duration": 517,
    "start_time": "2023-08-01T09:49:50.127Z"
   },
   {
    "duration": 23,
    "start_time": "2023-08-01T09:49:50.647Z"
   },
   {
    "duration": 15,
    "start_time": "2023-08-01T09:49:50.672Z"
   },
   {
    "duration": 9,
    "start_time": "2023-08-01T09:49:50.689Z"
   },
   {
    "duration": 51,
    "start_time": "2023-08-01T09:49:50.701Z"
   },
   {
    "duration": 4,
    "start_time": "2023-08-01T09:49:50.754Z"
   },
   {
    "duration": 22,
    "start_time": "2023-08-01T09:49:50.759Z"
   },
   {
    "duration": 26,
    "start_time": "2023-08-01T09:49:50.782Z"
   },
   {
    "duration": 11,
    "start_time": "2023-08-01T09:49:50.810Z"
   },
   {
    "duration": 19,
    "start_time": "2023-08-01T09:49:50.822Z"
   },
   {
    "duration": 38,
    "start_time": "2023-08-01T09:49:50.843Z"
   },
   {
    "duration": 9,
    "start_time": "2023-08-01T09:49:50.883Z"
   },
   {
    "duration": 6,
    "start_time": "2023-08-01T09:49:50.894Z"
   },
   {
    "duration": 15,
    "start_time": "2023-08-01T09:49:50.903Z"
   },
   {
    "duration": 33,
    "start_time": "2023-08-01T09:49:50.920Z"
   },
   {
    "duration": 19,
    "start_time": "2023-08-01T09:49:50.955Z"
   },
   {
    "duration": 3,
    "start_time": "2023-08-01T09:49:50.976Z"
   },
   {
    "duration": 21,
    "start_time": "2023-08-01T09:49:50.981Z"
   },
   {
    "duration": 20,
    "start_time": "2023-08-01T09:49:51.004Z"
   },
   {
    "duration": 3,
    "start_time": "2023-08-01T09:49:51.027Z"
   },
   {
    "duration": 22,
    "start_time": "2023-08-01T09:49:51.032Z"
   },
   {
    "duration": 27,
    "start_time": "2023-08-01T09:49:51.056Z"
   },
   {
    "duration": 10,
    "start_time": "2023-08-01T09:49:51.085Z"
   },
   {
    "duration": 7,
    "start_time": "2023-08-01T09:49:51.097Z"
   },
   {
    "duration": 8,
    "start_time": "2023-08-01T09:49:51.106Z"
   },
   {
    "duration": 14,
    "start_time": "2023-08-01T09:50:18.684Z"
   },
   {
    "duration": 14,
    "start_time": "2023-08-01T09:51:07.368Z"
   },
   {
    "duration": 14,
    "start_time": "2023-08-01T09:57:42.906Z"
   },
   {
    "duration": 14,
    "start_time": "2023-08-01T10:13:24.638Z"
   },
   {
    "duration": 5,
    "start_time": "2023-08-01T10:25:19.193Z"
   },
   {
    "duration": 5,
    "start_time": "2023-08-01T10:26:18.045Z"
   },
   {
    "duration": 4,
    "start_time": "2023-08-01T10:26:25.675Z"
   },
   {
    "duration": 5,
    "start_time": "2023-08-01T10:26:39.920Z"
   },
   {
    "duration": 21,
    "start_time": "2023-08-01T10:27:02.283Z"
   },
   {
    "duration": 21,
    "start_time": "2023-08-01T10:27:48.007Z"
   },
   {
    "duration": 4,
    "start_time": "2023-08-01T10:33:08.511Z"
   },
   {
    "duration": 66,
    "start_time": "2023-08-01T10:33:15.751Z"
   },
   {
    "duration": 10,
    "start_time": "2023-08-01T12:04:19.404Z"
   },
   {
    "duration": 21,
    "start_time": "2023-08-01T12:04:31.913Z"
   },
   {
    "duration": 13,
    "start_time": "2023-08-01T12:04:44.000Z"
   },
   {
    "duration": 17,
    "start_time": "2023-08-01T12:05:04.281Z"
   },
   {
    "duration": 32,
    "start_time": "2023-08-01T12:07:03.174Z"
   },
   {
    "duration": 20,
    "start_time": "2023-08-01T12:22:11.594Z"
   },
   {
    "duration": 707,
    "start_time": "2023-08-01T17:42:21.110Z"
   },
   {
    "duration": 22,
    "start_time": "2023-08-01T17:42:21.819Z"
   },
   {
    "duration": 27,
    "start_time": "2023-08-01T17:42:21.843Z"
   },
   {
    "duration": 302,
    "start_time": "2023-08-01T17:42:21.874Z"
   },
   {
    "duration": 196,
    "start_time": "2023-08-01T17:42:22.178Z"
   },
   {
    "duration": 161,
    "start_time": "2023-08-01T17:42:22.376Z"
   },
   {
    "duration": 21,
    "start_time": "2023-08-01T17:42:22.539Z"
   },
   {
    "duration": 28,
    "start_time": "2023-08-01T17:42:22.562Z"
   },
   {
    "duration": 18,
    "start_time": "2023-08-01T17:42:22.593Z"
   },
   {
    "duration": 7,
    "start_time": "2023-08-01T17:42:22.614Z"
   },
   {
    "duration": 40,
    "start_time": "2023-08-01T17:42:22.623Z"
   },
   {
    "duration": 10,
    "start_time": "2023-08-01T17:42:22.665Z"
   },
   {
    "duration": 15,
    "start_time": "2023-08-01T17:42:22.677Z"
   },
   {
    "duration": 20,
    "start_time": "2023-08-01T17:42:22.694Z"
   },
   {
    "duration": 43,
    "start_time": "2023-08-01T17:42:22.716Z"
   },
   {
    "duration": 19,
    "start_time": "2023-08-01T17:42:22.760Z"
   },
   {
    "duration": 15,
    "start_time": "2023-08-01T17:42:22.781Z"
   },
   {
    "duration": 16,
    "start_time": "2023-08-01T17:42:22.799Z"
   },
   {
    "duration": 24,
    "start_time": "2023-08-01T17:42:22.817Z"
   },
   {
    "duration": 15,
    "start_time": "2023-08-01T17:42:22.843Z"
   },
   {
    "duration": 32,
    "start_time": "2023-08-01T17:42:22.860Z"
   },
   {
    "duration": 27,
    "start_time": "2023-08-01T17:42:22.893Z"
   },
   {
    "duration": 19,
    "start_time": "2023-08-01T17:42:22.923Z"
   },
   {
    "duration": 21,
    "start_time": "2023-08-01T17:42:22.944Z"
   },
   {
    "duration": 67,
    "start_time": "2023-08-01T17:42:22.967Z"
   },
   {
    "duration": 453,
    "start_time": "2023-08-02T15:54:26.146Z"
   },
   {
    "duration": 22,
    "start_time": "2023-08-02T15:54:26.601Z"
   },
   {
    "duration": 52,
    "start_time": "2023-08-02T15:54:26.625Z"
   },
   {
    "duration": 45,
    "start_time": "2023-08-02T15:54:26.679Z"
   },
   {
    "duration": 58,
    "start_time": "2023-08-02T15:54:26.726Z"
   },
   {
    "duration": 3,
    "start_time": "2023-08-02T15:54:26.786Z"
   },
   {
    "duration": 45,
    "start_time": "2023-08-02T15:54:26.791Z"
   },
   {
    "duration": 46,
    "start_time": "2023-08-02T15:54:26.838Z"
   },
   {
    "duration": 52,
    "start_time": "2023-08-02T15:54:26.885Z"
   },
   {
    "duration": 40,
    "start_time": "2023-08-02T15:54:26.940Z"
   },
   {
    "duration": 67,
    "start_time": "2023-08-02T15:54:26.982Z"
   },
   {
    "duration": 10,
    "start_time": "2023-08-02T15:54:27.050Z"
   },
   {
    "duration": 26,
    "start_time": "2023-08-02T15:54:27.061Z"
   },
   {
    "duration": 46,
    "start_time": "2023-08-02T15:54:27.089Z"
   },
   {
    "duration": 42,
    "start_time": "2023-08-02T15:54:27.137Z"
   },
   {
    "duration": 42,
    "start_time": "2023-08-02T15:54:27.181Z"
   },
   {
    "duration": 6,
    "start_time": "2023-08-02T15:54:27.224Z"
   },
   {
    "duration": 36,
    "start_time": "2023-08-02T15:54:27.231Z"
   },
   {
    "duration": 17,
    "start_time": "2023-08-02T15:54:27.269Z"
   },
   {
    "duration": 47,
    "start_time": "2023-08-02T15:54:27.287Z"
   },
   {
    "duration": 32,
    "start_time": "2023-08-02T15:54:27.336Z"
   },
   {
    "duration": 42,
    "start_time": "2023-08-02T15:54:27.370Z"
   },
   {
    "duration": 12,
    "start_time": "2023-08-02T15:54:27.414Z"
   },
   {
    "duration": 48,
    "start_time": "2023-08-02T15:54:27.427Z"
   },
   {
    "duration": 55,
    "start_time": "2023-08-02T15:54:27.477Z"
   },
   {
    "duration": 482,
    "start_time": "2023-08-03T11:33:14.398Z"
   },
   {
    "duration": 22,
    "start_time": "2023-08-03T11:33:14.882Z"
   },
   {
    "duration": 16,
    "start_time": "2023-08-03T11:33:14.905Z"
   },
   {
    "duration": 10,
    "start_time": "2023-08-03T11:33:14.922Z"
   },
   {
    "duration": 56,
    "start_time": "2023-08-03T11:33:14.934Z"
   },
   {
    "duration": 3,
    "start_time": "2023-08-03T11:33:14.992Z"
   },
   {
    "duration": 41,
    "start_time": "2023-08-03T11:33:14.997Z"
   },
   {
    "duration": 29,
    "start_time": "2023-08-03T11:33:15.040Z"
   },
   {
    "duration": 23,
    "start_time": "2023-08-03T11:33:15.071Z"
   },
   {
    "duration": 44,
    "start_time": "2023-08-03T11:33:15.098Z"
   },
   {
    "duration": 42,
    "start_time": "2023-08-03T11:33:15.144Z"
   },
   {
    "duration": 10,
    "start_time": "2023-08-03T11:33:15.187Z"
   },
   {
    "duration": 12,
    "start_time": "2023-08-03T11:33:15.199Z"
   },
   {
    "duration": 34,
    "start_time": "2023-08-03T11:33:15.213Z"
   },
   {
    "duration": 20,
    "start_time": "2023-08-03T11:33:15.249Z"
   },
   {
    "duration": 15,
    "start_time": "2023-08-03T11:33:15.271Z"
   },
   {
    "duration": 14,
    "start_time": "2023-08-03T11:33:15.288Z"
   },
   {
    "duration": 25,
    "start_time": "2023-08-03T11:33:15.304Z"
   },
   {
    "duration": 10,
    "start_time": "2023-08-03T11:33:15.331Z"
   },
   {
    "duration": 15,
    "start_time": "2023-08-03T11:33:15.342Z"
   },
   {
    "duration": 14,
    "start_time": "2023-08-03T11:33:15.358Z"
   },
   {
    "duration": 41,
    "start_time": "2023-08-03T11:33:15.374Z"
   },
   {
    "duration": 13,
    "start_time": "2023-08-03T11:33:15.416Z"
   },
   {
    "duration": 18,
    "start_time": "2023-08-03T11:33:15.431Z"
   },
   {
    "duration": 19,
    "start_time": "2023-08-03T11:33:15.451Z"
   }
  ],
  "colab": {
   "provenance": []
  },
  "kernelspec": {
   "display_name": "Python 3 (ipykernel)",
   "language": "python",
   "name": "python3"
  },
  "language_info": {
   "codemirror_mode": {
    "name": "ipython",
    "version": 3
   },
   "file_extension": ".py",
   "mimetype": "text/x-python",
   "name": "python",
   "nbconvert_exporter": "python",
   "pygments_lexer": "ipython3",
   "version": "3.9.5"
  },
  "toc": {
   "base_numbering": 1,
   "nav_menu": {},
   "number_sections": true,
   "sideBar": true,
   "skip_h1_title": true,
   "title_cell": "Table of Contents",
   "title_sidebar": "Contents",
   "toc_cell": false,
   "toc_position": {
    "height": "calc(100% - 180px)",
    "left": "10px",
    "top": "150px",
    "width": "374.391px"
   },
   "toc_section_display": true,
   "toc_window_display": true
  }
 },
 "nbformat": 4,
 "nbformat_minor": 5
}
